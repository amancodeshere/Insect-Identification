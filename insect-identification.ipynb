{
 "cells": [
  {
   "metadata": {},
   "cell_type": "markdown",
   "source": [
    "## Insect-Identification \n",
    "\n",
    "\n",
    "**Problem Statement**: Insect pest classification plays a crucial role in various domains, including agriculture, pest\n",
    "control, and ecological research. Rapid and accurate identification of insect pests is essential for effective pest\n",
    "management strategies, early detection of invasive species, and preservation of crop yield and quality. However,\n",
    "manual classification of insects based on visual inspection can be time-consuming, error-prone, and challenging,\n",
    "particularly when dealing with conditions in the wild. The goal of this project is to correctly identify the species of\n",
    "insects in an automated manner using advanced artificial intelligence algorithms which has high accuracy, robust to\n",
    "varying environmental conditions, appearance, and deploying these algorithms for real-time monitoring.\n",
    "\n",
    "**Dataset**: The IP102 dataset is a benchmark dataset for insect pests. The details about the dataset can be found and\n",
    "be downloaded from the URL given below: https://github.com/xpwu95/IP102/tree/master\n"
   ],
   "id": "19fe80f62e482629"
  },
  {
   "metadata": {},
   "cell_type": "markdown",
   "source": "### Installation of Necessary Libraries",
   "id": "b9c09e798c500851"
  },
  {
   "metadata": {
    "ExecuteTime": {
     "end_time": "2024-12-13T01:58:47.765434Z",
     "start_time": "2024-12-13T01:58:46.055Z"
    }
   },
   "cell_type": "code",
   "source": "%pip install torch torchvision datasets pillow sklearn",
   "id": "8b3a3d3f760669ab",
   "outputs": [
    {
     "name": "stdout",
     "output_type": "stream",
     "text": [
      "Requirement already satisfied: torch in /Library/Frameworks/Python.framework/Versions/3.11/lib/python3.11/site-packages (2.4.1)\r\n",
      "Requirement already satisfied: torchvision in /Library/Frameworks/Python.framework/Versions/3.11/lib/python3.11/site-packages (0.19.1)\r\n",
      "Requirement already satisfied: datasets in /Library/Frameworks/Python.framework/Versions/3.11/lib/python3.11/site-packages (3.0.2)\r\n",
      "Requirement already satisfied: pillow in /Library/Frameworks/Python.framework/Versions/3.11/lib/python3.11/site-packages (10.4.0)\r\n",
      "Collecting sklearn\r\n",
      "  Using cached sklearn-0.0.post12.tar.gz (2.6 kB)\r\n",
      "  Preparing metadata (setup.py) ... \u001B[?25lerror\r\n",
      "  \u001B[1;31merror\u001B[0m: \u001B[1msubprocess-exited-with-error\u001B[0m\r\n",
      "  \r\n",
      "  \u001B[31m×\u001B[0m \u001B[32mpython setup.py egg_info\u001B[0m did not run successfully.\r\n",
      "  \u001B[31m│\u001B[0m exit code: \u001B[1;36m1\u001B[0m\r\n",
      "  \u001B[31m╰─>\u001B[0m \u001B[31m[15 lines of output]\u001B[0m\r\n",
      "  \u001B[31m   \u001B[0m The 'sklearn' PyPI package is deprecated, use 'scikit-learn'\r\n",
      "  \u001B[31m   \u001B[0m rather than 'sklearn' for pip commands.\r\n",
      "  \u001B[31m   \u001B[0m \r\n",
      "  \u001B[31m   \u001B[0m Here is how to fix this error in the main use cases:\r\n",
      "  \u001B[31m   \u001B[0m - use 'pip install scikit-learn' rather than 'pip install sklearn'\r\n",
      "  \u001B[31m   \u001B[0m - replace 'sklearn' by 'scikit-learn' in your pip requirements files\r\n",
      "  \u001B[31m   \u001B[0m   (requirements.txt, setup.py, setup.cfg, Pipfile, etc ...)\r\n",
      "  \u001B[31m   \u001B[0m - if the 'sklearn' package is used by one of your dependencies,\r\n",
      "  \u001B[31m   \u001B[0m   it would be great if you take some time to track which package uses\r\n",
      "  \u001B[31m   \u001B[0m   'sklearn' instead of 'scikit-learn' and report it to their issue tracker\r\n",
      "  \u001B[31m   \u001B[0m - as a last resort, set the environment variable\r\n",
      "  \u001B[31m   \u001B[0m   SKLEARN_ALLOW_DEPRECATED_SKLEARN_PACKAGE_INSTALL=True to avoid this error\r\n",
      "  \u001B[31m   \u001B[0m \r\n",
      "  \u001B[31m   \u001B[0m More information is available at\r\n",
      "  \u001B[31m   \u001B[0m https://github.com/scikit-learn/sklearn-pypi-package\r\n",
      "  \u001B[31m   \u001B[0m \u001B[31m[end of output]\u001B[0m\r\n",
      "  \r\n",
      "  \u001B[1;35mnote\u001B[0m: This error originates from a subprocess, and is likely not a problem with pip.\r\n",
      "\r\n",
      "\u001B[1m[\u001B[0m\u001B[34;49mnotice\u001B[0m\u001B[1;39;49m]\u001B[0m\u001B[39;49m A new release of pip is available: \u001B[0m\u001B[31;49m24.2\u001B[0m\u001B[39;49m -> \u001B[0m\u001B[32;49m24.3.1\u001B[0m\r\n",
      "\u001B[1m[\u001B[0m\u001B[34;49mnotice\u001B[0m\u001B[1;39;49m]\u001B[0m\u001B[39;49m To update, run: \u001B[0m\u001B[32;49mpip3.11 install --upgrade pip\u001B[0m\r\n",
      "\u001B[1;31merror\u001B[0m: \u001B[1mmetadata-generation-failed\u001B[0m\r\n",
      "\r\n",
      "\u001B[31m×\u001B[0m Encountered error while generating package metadata.\r\n",
      "\u001B[31m╰─>\u001B[0m See above for output.\r\n",
      "\r\n",
      "\u001B[1;35mnote\u001B[0m: This is an issue with the package mentioned above, not pip.\r\n",
      "\u001B[1;36mhint\u001B[0m: See above for details.\r\n",
      "\u001B[?25hNote: you may need to restart the kernel to use updated packages.\n"
     ]
    }
   ],
   "execution_count": 1
  },
  {
   "metadata": {},
   "cell_type": "markdown",
   "source": "### Importing Libraries",
   "id": "7d729244dd0c71a3"
  },
  {
   "metadata": {},
   "cell_type": "code",
   "outputs": [],
   "execution_count": null,
   "source": [
    "import torch\n",
    "from torch import nn\n",
    "from torchvision import datasets, transforms\n",
    "import numpy as np\n",
    "from sklearn.metrics import accuracy_score"
   ],
   "id": "47ffdcb409693621"
  }
 ],
 "metadata": {
  "kernelspec": {
   "display_name": "Python 3",
   "language": "python",
   "name": "python3"
  },
  "language_info": {
   "codemirror_mode": {
    "name": "ipython",
    "version": 2
   },
   "file_extension": ".py",
   "mimetype": "text/x-python",
   "name": "python",
   "nbconvert_exporter": "python",
   "pygments_lexer": "ipython2",
   "version": "2.7.6"
  }
 },
 "nbformat": 4,
 "nbformat_minor": 5
}
